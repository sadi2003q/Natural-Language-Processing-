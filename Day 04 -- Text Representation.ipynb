{
 "cells": [
  {
   "cell_type": "markdown",
   "metadata": {},
   "source": [
    "#### Text Representation "
   ]
  },
  {
   "cell_type": "code",
   "execution_count": 1,
   "metadata": {},
   "outputs": [],
   "source": [
    "import pandas as pd\n",
    "\n",
    "from sklearn.preprocessing import OneHotEncoder"
   ]
  },
  {
   "cell_type": "code",
   "execution_count": 2,
   "metadata": {},
   "outputs": [],
   "source": [
    "df = pd.read_csv('reviews.csv')"
   ]
  },
  {
   "cell_type": "markdown",
   "metadata": {},
   "source": [
    "##### Basic Text Preprocessing"
   ]
  },
  {
   "cell_type": "code",
   "execution_count": 3,
   "metadata": {},
   "outputs": [],
   "source": [
    "## remove html tag\n",
    "import re \n",
    "import spacy\n",
    "from nltk.stem.porter import PorterStemmer\n",
    "nlp = spacy.load('en_core_web_sm')\n",
    "from nltk.stem.porter import PorterStemmer\n",
    "\n",
    "import string\n",
    "def remove_html_tag(text):\n",
    "    pattern = re.compile('<..*?>')\n",
    "    return pattern.sub(r'', text)\n",
    "\n",
    "def remove_url(text):\n",
    "    pattern = re.compile('https?://\\s+www\\.\\s+')\n",
    "    return pattern.sub(r'', text)    \n",
    "\n",
    "def remove_punctuation(text) : \n",
    "    exclude = string.punctuation\n",
    "    return text.translate(str.maketrans('', '', exclude))\n",
    "    \n",
    "def correct_spelling(text):\n",
    "    return str(TextBlob(text).correct())\n",
    "\n",
    "    \n",
    "def remove_emoji(text):\n",
    "    emoji_pattern = re.compile(\"[\"\n",
    "                           u\"\\U0001F600-\\U0001F64F\"  # emoticons\n",
    "                           u\"\\U0001F300-\\U0001F5FF\"  # symbols & pictographs\n",
    "                           u\"\\U0001F680-\\U0001F6FF\"  # transport & map symbols\n",
    "                           u\"\\U0001F1E0-\\U0001F1FF\"  # flags (iOS)\n",
    "                           u\"\\U00002702-\\U000027B0\"\n",
    "                           u\"\\U000024C2-\\U0001F251\"\n",
    "                           \"]+\", flags=re.UNICODE)\n",
    "    return emoji_pattern.sub(r'', text)\n",
    "\n",
    "def tokenise(text):\n",
    "    return [token.text for token in nlp(text)]\n",
    "\n",
    "ps = PorterStemmer()\n",
    "def stem_words(text):\n",
    "    return \" \".join([ps.stem(word) for word in text.split()])\n",
    "import nltk\n",
    "from nltk.stem import WordNetLemmatizer\n",
    "from nltk.tokenize import word_tokenize\n",
    "\n",
    "def lemmatize_sentence(sentence):\n",
    "    wordnet_lemmatizer = WordNetLemmatizer()\n",
    "    punctuations = \"?:!.,;\"\n",
    "\n",
    "    sentence_words = word_tokenize(sentence)\n",
    "\n",
    "    sentence_words = [word for word in sentence_words if word not in punctuations]\n",
    "    \n",
    "    lemmatized_words = [(word, wordnet_lemmatizer.lemmatize(word, pos='v')) for word in sentence_words]\n",
    "\n",
    "    print(\"{0:20}{1:20}\".format(\"Word\", \"Lemma\"))\n",
    "    for word, lemma in lemmatized_words:\n",
    "        print(\"{0:20}{1:20}\".format(word, lemma))"
   ]
  },
  {
   "cell_type": "code",
   "execution_count": 4,
   "metadata": {},
   "outputs": [],
   "source": [
    "df['review'] = df['review'].apply(remove_html_tag)\n",
    "df['review'] = df['review'].apply(remove_punctuation)\n",
    "df['review'] = df['review'].apply(remove_emoji)\n",
    "df['review'] = df['review'].str.lower()"
   ]
  },
  {
   "cell_type": "markdown",
   "metadata": {},
   "source": [
    "##### One Hot Encoding ######\n"
   ]
  },
  {
   "cell_type": "code",
   "execution_count": 5,
   "metadata": {},
   "outputs": [],
   "source": [
    "encoder = OneHotEncoder(sparse_output = False, drop='first')\n",
    "\n",
    "new_array = encoder.fit_transform(df[['review']])"
   ]
  },
  {
   "cell_type": "code",
   "execution_count": 6,
   "metadata": {},
   "outputs": [],
   "source": [
    "new_df = pd.DataFrame(new_array)"
   ]
  },
  {
   "cell_type": "code",
   "execution_count": 7,
   "metadata": {},
   "outputs": [
    {
     "data": {
      "text/plain": [
       "(50000, 49579)"
      ]
     },
     "execution_count": 7,
     "metadata": {},
     "output_type": "execute_result"
    }
   ],
   "source": [
    "new_df.shape"
   ]
  },
  {
   "cell_type": "markdown",
   "metadata": {},
   "source": [
    "##### Bag of Words"
   ]
  },
  {
   "cell_type": "code",
   "execution_count": 8,
   "metadata": {},
   "outputs": [],
   "source": [
    "from sklearn.feature_extraction.text import CountVectorizer"
   ]
  },
  {
   "cell_type": "code",
   "execution_count": 9,
   "metadata": {},
   "outputs": [],
   "source": [
    "vector_bag = CountVectorizer()"
   ]
  },
  {
   "cell_type": "code",
   "execution_count": 10,
   "metadata": {},
   "outputs": [],
   "source": [
    "new_array_2 = vector_bag.fit_transform(df['review'])"
   ]
  },
  {
   "cell_type": "code",
   "execution_count": 11,
   "metadata": {},
   "outputs": [],
   "source": [
    "from sklearn.decomposition import TruncatedSVD\n",
    "svd = TruncatedSVD(n_components=100)\n",
    "X_reduced = svd.fit_transform(new_array_2)"
   ]
  },
  {
   "cell_type": "code",
   "execution_count": 12,
   "metadata": {},
   "outputs": [],
   "source": [
    "new_df_2 = pd.DataFrame(X_reduced)"
   ]
  },
  {
   "cell_type": "code",
   "execution_count": 13,
   "metadata": {},
   "outputs": [
    {
     "data": {
      "text/html": [
       "<div>\n",
       "<style scoped>\n",
       "    .dataframe tbody tr th:only-of-type {\n",
       "        vertical-align: middle;\n",
       "    }\n",
       "\n",
       "    .dataframe tbody tr th {\n",
       "        vertical-align: top;\n",
       "    }\n",
       "\n",
       "    .dataframe thead th {\n",
       "        text-align: right;\n",
       "    }\n",
       "</style>\n",
       "<table border=\"1\" class=\"dataframe\">\n",
       "  <thead>\n",
       "    <tr style=\"text-align: right;\">\n",
       "      <th></th>\n",
       "      <th>0</th>\n",
       "      <th>1</th>\n",
       "      <th>2</th>\n",
       "      <th>3</th>\n",
       "      <th>4</th>\n",
       "      <th>5</th>\n",
       "      <th>6</th>\n",
       "      <th>7</th>\n",
       "      <th>8</th>\n",
       "      <th>9</th>\n",
       "      <th>...</th>\n",
       "      <th>90</th>\n",
       "      <th>91</th>\n",
       "      <th>92</th>\n",
       "      <th>93</th>\n",
       "      <th>94</th>\n",
       "      <th>95</th>\n",
       "      <th>96</th>\n",
       "      <th>97</th>\n",
       "      <th>98</th>\n",
       "      <th>99</th>\n",
       "    </tr>\n",
       "  </thead>\n",
       "  <tbody>\n",
       "    <tr>\n",
       "      <th>0</th>\n",
       "      <td>23.755996</td>\n",
       "      <td>-2.233298</td>\n",
       "      <td>-1.062150</td>\n",
       "      <td>3.155375</td>\n",
       "      <td>-1.225857</td>\n",
       "      <td>-0.229157</td>\n",
       "      <td>-0.911140</td>\n",
       "      <td>-2.189572</td>\n",
       "      <td>-1.147830</td>\n",
       "      <td>-1.815437</td>\n",
       "      <td>...</td>\n",
       "      <td>-0.011070</td>\n",
       "      <td>0.315686</td>\n",
       "      <td>-0.826967</td>\n",
       "      <td>0.402342</td>\n",
       "      <td>-0.576245</td>\n",
       "      <td>0.110998</td>\n",
       "      <td>0.766842</td>\n",
       "      <td>0.785078</td>\n",
       "      <td>0.007232</td>\n",
       "      <td>-0.407543</td>\n",
       "    </tr>\n",
       "    <tr>\n",
       "      <th>1</th>\n",
       "      <td>17.903649</td>\n",
       "      <td>4.507064</td>\n",
       "      <td>0.439980</td>\n",
       "      <td>-1.877099</td>\n",
       "      <td>-3.492106</td>\n",
       "      <td>-1.463537</td>\n",
       "      <td>-2.345386</td>\n",
       "      <td>-1.237719</td>\n",
       "      <td>-2.866922</td>\n",
       "      <td>-0.517796</td>\n",
       "      <td>...</td>\n",
       "      <td>-0.142640</td>\n",
       "      <td>-0.384211</td>\n",
       "      <td>-0.520074</td>\n",
       "      <td>0.309011</td>\n",
       "      <td>0.289558</td>\n",
       "      <td>0.200315</td>\n",
       "      <td>-0.600555</td>\n",
       "      <td>0.108689</td>\n",
       "      <td>0.342573</td>\n",
       "      <td>0.407225</td>\n",
       "    </tr>\n",
       "    <tr>\n",
       "      <th>2</th>\n",
       "      <td>13.329773</td>\n",
       "      <td>-1.492844</td>\n",
       "      <td>-0.471980</td>\n",
       "      <td>0.141239</td>\n",
       "      <td>0.169426</td>\n",
       "      <td>0.059844</td>\n",
       "      <td>1.794680</td>\n",
       "      <td>0.045424</td>\n",
       "      <td>0.895415</td>\n",
       "      <td>-0.183727</td>\n",
       "      <td>...</td>\n",
       "      <td>-0.037936</td>\n",
       "      <td>-0.176532</td>\n",
       "      <td>-0.393913</td>\n",
       "      <td>0.501530</td>\n",
       "      <td>0.170796</td>\n",
       "      <td>-0.154089</td>\n",
       "      <td>-0.840033</td>\n",
       "      <td>0.688515</td>\n",
       "      <td>-0.722161</td>\n",
       "      <td>0.442541</td>\n",
       "    </tr>\n",
       "    <tr>\n",
       "      <th>3</th>\n",
       "      <td>9.683612</td>\n",
       "      <td>-0.583862</td>\n",
       "      <td>1.407908</td>\n",
       "      <td>-0.472852</td>\n",
       "      <td>-0.008746</td>\n",
       "      <td>-0.815297</td>\n",
       "      <td>-0.331940</td>\n",
       "      <td>1.546669</td>\n",
       "      <td>-0.266110</td>\n",
       "      <td>1.328530</td>\n",
       "      <td>...</td>\n",
       "      <td>0.470967</td>\n",
       "      <td>0.594937</td>\n",
       "      <td>0.150265</td>\n",
       "      <td>0.062508</td>\n",
       "      <td>0.743831</td>\n",
       "      <td>0.654234</td>\n",
       "      <td>-0.194971</td>\n",
       "      <td>0.074629</td>\n",
       "      <td>0.323258</td>\n",
       "      <td>0.446140</td>\n",
       "    </tr>\n",
       "    <tr>\n",
       "      <th>4</th>\n",
       "      <td>22.833998</td>\n",
       "      <td>3.932505</td>\n",
       "      <td>0.758755</td>\n",
       "      <td>3.244718</td>\n",
       "      <td>-0.175937</td>\n",
       "      <td>-1.858452</td>\n",
       "      <td>-1.273997</td>\n",
       "      <td>1.320844</td>\n",
       "      <td>1.756249</td>\n",
       "      <td>1.234114</td>\n",
       "      <td>...</td>\n",
       "      <td>-0.194423</td>\n",
       "      <td>-0.301579</td>\n",
       "      <td>-0.346838</td>\n",
       "      <td>-0.151163</td>\n",
       "      <td>-0.216361</td>\n",
       "      <td>0.101837</td>\n",
       "      <td>-0.449467</td>\n",
       "      <td>0.108685</td>\n",
       "      <td>0.144174</td>\n",
       "      <td>-0.768871</td>\n",
       "    </tr>\n",
       "  </tbody>\n",
       "</table>\n",
       "<p>5 rows × 100 columns</p>\n",
       "</div>"
      ],
      "text/plain": [
       "          0         1         2         3         4         5         6   \\\n",
       "0  23.755996 -2.233298 -1.062150  3.155375 -1.225857 -0.229157 -0.911140   \n",
       "1  17.903649  4.507064  0.439980 -1.877099 -3.492106 -1.463537 -2.345386   \n",
       "2  13.329773 -1.492844 -0.471980  0.141239  0.169426  0.059844  1.794680   \n",
       "3   9.683612 -0.583862  1.407908 -0.472852 -0.008746 -0.815297 -0.331940   \n",
       "4  22.833998  3.932505  0.758755  3.244718 -0.175937 -1.858452 -1.273997   \n",
       "\n",
       "         7         8         9   ...        90        91        92        93  \\\n",
       "0 -2.189572 -1.147830 -1.815437  ... -0.011070  0.315686 -0.826967  0.402342   \n",
       "1 -1.237719 -2.866922 -0.517796  ... -0.142640 -0.384211 -0.520074  0.309011   \n",
       "2  0.045424  0.895415 -0.183727  ... -0.037936 -0.176532 -0.393913  0.501530   \n",
       "3  1.546669 -0.266110  1.328530  ...  0.470967  0.594937  0.150265  0.062508   \n",
       "4  1.320844  1.756249  1.234114  ... -0.194423 -0.301579 -0.346838 -0.151163   \n",
       "\n",
       "         94        95        96        97        98        99  \n",
       "0 -0.576245  0.110998  0.766842  0.785078  0.007232 -0.407543  \n",
       "1  0.289558  0.200315 -0.600555  0.108689  0.342573  0.407225  \n",
       "2  0.170796 -0.154089 -0.840033  0.688515 -0.722161  0.442541  \n",
       "3  0.743831  0.654234 -0.194971  0.074629  0.323258  0.446140  \n",
       "4 -0.216361  0.101837 -0.449467  0.108685  0.144174 -0.768871  \n",
       "\n",
       "[5 rows x 100 columns]"
      ]
     },
     "execution_count": 13,
     "metadata": {},
     "output_type": "execute_result"
    }
   ],
   "source": [
    "new_df_2.head()"
   ]
  },
  {
   "cell_type": "markdown",
   "metadata": {},
   "source": [
    "##### N Gram"
   ]
  },
  {
   "cell_type": "code",
   "execution_count": 14,
   "metadata": {},
   "outputs": [],
   "source": [
    "vector_bag2 = CountVectorizer(ngram_range = (1, 3))"
   ]
  },
  {
   "cell_type": "code",
   "execution_count": 15,
   "metadata": {},
   "outputs": [],
   "source": [
    "new_array_3 = vector_bag2.fit_transform(df['review'])"
   ]
  },
  {
   "cell_type": "code",
   "execution_count": 16,
   "metadata": {},
   "outputs": [
    {
     "data": {
      "text/plain": [
       "(50000, 9523452)"
      ]
     },
     "execution_count": 16,
     "metadata": {},
     "output_type": "execute_result"
    }
   ],
   "source": [
    "new_array_3.shape"
   ]
  },
  {
   "cell_type": "code",
   "execution_count": 17,
   "metadata": {},
   "outputs": [],
   "source": [
    "from sklearn.decomposition import TruncatedSVD\n",
    "svd = TruncatedSVD(n_components=100)\n",
    "X_reduced = svd.fit_transform(new_array_2)"
   ]
  },
  {
   "cell_type": "code",
   "execution_count": 19,
   "metadata": {},
   "outputs": [
    {
     "data": {
      "text/plain": [
       "(50000, 100)"
      ]
     },
     "execution_count": 19,
     "metadata": {},
     "output_type": "execute_result"
    }
   ],
   "source": [
    "X_reduced.shape"
   ]
  },
  {
   "cell_type": "code",
   "execution_count": 18,
   "metadata": {},
   "outputs": [],
   "source": [
    "from sklearn.feature_extraction.text import TfidfVectorizer"
   ]
  },
  {
   "cell_type": "code",
   "execution_count": 20,
   "metadata": {},
   "outputs": [],
   "source": [
    "idf = TfidfVectorizer()"
   ]
  },
  {
   "cell_type": "code",
   "execution_count": 21,
   "metadata": {},
   "outputs": [],
   "source": [
    "new_array_4 = idf.fit_transform(df['review'])"
   ]
  },
  {
   "cell_type": "code",
   "execution_count": 22,
   "metadata": {},
   "outputs": [
    {
     "data": {
      "text/plain": [
       "(50000, 221441)"
      ]
     },
     "execution_count": 22,
     "metadata": {},
     "output_type": "execute_result"
    }
   ],
   "source": [
    "new_array_4.shape"
   ]
  },
  {
   "cell_type": "code",
   "execution_count": null,
   "metadata": {},
   "outputs": [],
   "source": []
  }
 ],
 "metadata": {
  "kernelspec": {
   "display_name": ".venv",
   "language": "python",
   "name": "python3"
  },
  "language_info": {
   "codemirror_mode": {
    "name": "ipython",
    "version": 3
   },
   "file_extension": ".py",
   "mimetype": "text/x-python",
   "name": "python",
   "nbconvert_exporter": "python",
   "pygments_lexer": "ipython3",
   "version": "3.11.8"
  }
 },
 "nbformat": 4,
 "nbformat_minor": 2
}

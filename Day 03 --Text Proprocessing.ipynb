{
 "cells": [
  {
   "cell_type": "markdown",
   "metadata": {},
   "source": [
    "## Text basic Text Preprocessing "
   ]
  },
  {
   "cell_type": "code",
   "execution_count": 1,
   "metadata": {
    "ExecuteTime": {
     "end_time": "2024-06-13T11:39:54.756098Z",
     "start_time": "2024-06-13T11:39:54.416355Z"
    }
   },
   "outputs": [],
   "source": [
    "import pandas as pd"
   ]
  },
  {
   "cell_type": "code",
   "execution_count": 2,
   "metadata": {
    "ExecuteTime": {
     "end_time": "2024-06-13T11:39:55.219715Z",
     "start_time": "2024-06-13T11:39:54.757356Z"
    }
   },
   "outputs": [],
   "source": [
    "df = pd.read_csv('reviews.csv')"
   ]
  },
  {
   "cell_type": "code",
   "execution_count": 3,
   "metadata": {
    "ExecuteTime": {
     "end_time": "2024-06-13T11:39:55.225149Z",
     "start_time": "2024-06-13T11:39:55.220409Z"
    }
   },
   "outputs": [
    {
     "data": {
      "text/plain": "<bound method StringMethods.lower of <pandas.core.strings.accessor.StringMethods object at 0x1091e9b20>>"
     },
     "execution_count": 3,
     "metadata": {},
     "output_type": "execute_result"
    }
   ],
   "source": [
    "df['review'].str.lower"
   ]
  },
  {
   "cell_type": "code",
   "execution_count": 4,
   "metadata": {
    "ExecuteTime": {
     "end_time": "2024-06-13T11:39:55.330220Z",
     "start_time": "2024-06-13T11:39:55.226026Z"
    }
   },
   "outputs": [
    {
     "name": "stderr",
     "output_type": "stream",
     "text": [
      "<>:14: SyntaxWarning: invalid escape sequence '\\s'\n",
      "<>:14: SyntaxWarning: invalid escape sequence '\\s'\n",
      "/var/folders/c4/g4th1y192hlgglxhh6s94n8m0000gn/T/ipykernel_42180/1973102911.py:14: SyntaxWarning: invalid escape sequence '\\s'\n",
      "  pattern = re.compile('https?://\\s+www\\.\\s+')\n",
      "/var/folders/c4/g4th1y192hlgglxhh6s94n8m0000gn/T/ipykernel_42180/1973102911.py:14: SyntaxWarning: invalid escape sequence '\\s'\n",
      "  pattern = re.compile('https?://\\s+www\\.\\s+')\n"
     ]
    },
    {
     "ename": "ModuleNotFoundError",
     "evalue": "No module named 'spacy'",
     "output_type": "error",
     "traceback": [
      "\u001B[0;31m---------------------------------------------------------------------------\u001B[0m",
      "\u001B[0;31mModuleNotFoundError\u001B[0m                       Traceback (most recent call last)",
      "Cell \u001B[0;32mIn[4], line 3\u001B[0m\n\u001B[1;32m      1\u001B[0m \u001B[38;5;66;03m## remove html tag\u001B[39;00m\n\u001B[1;32m      2\u001B[0m \u001B[38;5;28;01mimport\u001B[39;00m \u001B[38;5;21;01mre\u001B[39;00m \n\u001B[0;32m----> 3\u001B[0m \u001B[38;5;28;01mimport\u001B[39;00m \u001B[38;5;21;01mspacy\u001B[39;00m\n\u001B[1;32m      4\u001B[0m \u001B[38;5;28;01mfrom\u001B[39;00m \u001B[38;5;21;01mnltk\u001B[39;00m\u001B[38;5;21;01m.\u001B[39;00m\u001B[38;5;21;01mstem\u001B[39;00m\u001B[38;5;21;01m.\u001B[39;00m\u001B[38;5;21;01mporter\u001B[39;00m \u001B[38;5;28;01mimport\u001B[39;00m PorterStemmer\n\u001B[1;32m      5\u001B[0m nlp \u001B[38;5;241m=\u001B[39m spacy\u001B[38;5;241m.\u001B[39mload(\u001B[38;5;124m'\u001B[39m\u001B[38;5;124men_core_web_sm\u001B[39m\u001B[38;5;124m'\u001B[39m)\n",
      "\u001B[0;31mModuleNotFoundError\u001B[0m: No module named 'spacy'"
     ]
    }
   ],
   "source": [
    "## remove html tag\n",
    "import re \n",
    "import spacy\n",
    "from nltk.stem.porter import PorterStemmer\n",
    "nlp = spacy.load('en_core_web_sm')\n",
    "from nltk.stem.porter import PorterStemmer\n",
    "\n",
    "import string\n",
    "def remove_html_tag(text):\n",
    "    pattern = re.compile('<..*?>')\n",
    "    return pattern.sub(r'', text)\n",
    "\n",
    "def remove_url(text):\n",
    "    pattern = re.compile('https?://\\s+www\\.\\s+')\n",
    "    return pattern.sub(r'', text)    \n",
    "\n",
    "def remove_punctuation(text) : \n",
    "    exclude = string.punctuation\n",
    "    return text.translate(str.maketrans('', '', exclude))\n",
    "    \n",
    "def correct_spelling(text):\n",
    "    return str(TextBlob(text).correct())\n",
    "\n",
    "    \n",
    "def remove_emoji(text):\n",
    "    emoji_pattern = re.compile(\"[\"\n",
    "                           u\"\\U0001F600-\\U0001F64F\"  # emoticons\n",
    "                           u\"\\U0001F300-\\U0001F5FF\"  # symbols & pictographs\n",
    "                           u\"\\U0001F680-\\U0001F6FF\"  # transport & map symbols\n",
    "                           u\"\\U0001F1E0-\\U0001F1FF\"  # flags (iOS)\n",
    "                           u\"\\U00002702-\\U000027B0\"\n",
    "                           u\"\\U000024C2-\\U0001F251\"\n",
    "                           \"]+\", flags=re.UNICODE)\n",
    "    return emoji_pattern.sub(r'', text)\n",
    "\n",
    "def tokenise(text):\n",
    "    return [token.text for token in nlp(text)]\n",
    "\n",
    "ps = PorterStemmer()\n",
    "def stem_words(text):\n",
    "    return \" \".join([ps.stem(word) for word in text.split()])\n",
    "import nltk\n",
    "from nltk.stem import WordNetLemmatizer\n",
    "from nltk.tokenize import word_tokenize\n",
    "\n",
    "def lemmatize_sentence(sentence):\n",
    "    wordnet_lemmatizer = WordNetLemmatizer()\n",
    "    punctuations = \"?:!.,;\"\n",
    "\n",
    "    sentence_words = word_tokenize(sentence)\n",
    "\n",
    "    sentence_words = [word for word in sentence_words if word not in punctuations]\n",
    "    \n",
    "    lemmatized_words = [(word, wordnet_lemmatizer.lemmatize(word, pos='v')) for word in sentence_words]\n",
    "\n",
    "    print(\"{0:20}{1:20}\".format(\"Word\", \"Lemma\"))\n",
    "    for word, lemma in lemmatized_words:\n",
    "        print(\"{0:20}{1:20}\".format(word, lemma))\n",
    "\n",
    "\n"
   ]
  },
  {
   "cell_type": "code",
   "execution_count": null,
   "metadata": {
    "vscode": {
     "languageId": "ruby"
    }
   },
   "outputs": [],
   "source": [
    "df['review'] = df['review'].apply(remove_html_tag)\n",
    "df['review'] = df['review'].apply(remove_url)\n",
    "df['review'] = df['review'].apply(remove_punctuation)\n",
    "df['review'] = df['review'].apply(remove_emoji)\n",
    "df['review'] = df['review'].apply(tokenise)"
   ]
  },
  {
   "cell_type": "code",
   "execution_count": null,
   "metadata": {
    "vscode": {
     "languageId": "ruby"
    }
   },
   "outputs": [],
   "source": [
    "sample = \"walk walks walking walked\"\n",
    "print(stem_words(sample))\n"
   ]
  },
  {
   "cell_type": "code",
   "execution_count": null,
   "metadata": {
    "vscode": {
     "languageId": "ruby"
    }
   },
   "outputs": [],
   "source": []
  }
 ],
 "metadata": {
  "kernelspec": {
   "display_name": ".venv",
   "language": "python",
   "name": "python3"
  },
  "language_info": {
   "codemirror_mode": {
    "name": "ipython",
    "version": 3
   },
   "file_extension": ".py",
   "mimetype": "text/x-python",
   "name": "python",
   "nbconvert_exporter": "python",
   "pygments_lexer": "ipython3",
   "version": "3.11.8"
  }
 },
 "nbformat": 4,
 "nbformat_minor": 2
}
